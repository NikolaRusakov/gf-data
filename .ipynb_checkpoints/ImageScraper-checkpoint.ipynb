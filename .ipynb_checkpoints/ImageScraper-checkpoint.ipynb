{
 "cells": [
  {
   "cell_type": "markdown",
   "metadata": {
    "colab_type": "text",
    "id": "view-in-github"
   },
   "source": [
    "<a href=\"https://colab.research.google.com/github/joedockrill/image-scraper/blob/master/ImageScraper.ipynb\" target=\"_parent\"><img src=\"https://colab.research.google.com/assets/colab-badge.svg\" alt=\"Open In Colab\"/></a>"
   ]
  },
  {
   "cell_type": "markdown",
   "metadata": {
    "colab_type": "text",
    "id": "ONIqIEu7VyT4"
   },
   "source": [
    "# DuckDuckGo Image Scraper\n",
    "\n",
    "This was originally an image scraper notebook for creating deep learning datasets.\n",
    "\n",
    "It has since been turned into an installable library and is much easier to use as you can simply drop a few lines of code into your own notebook as you're experimenting. \n",
    "\n",
    "This notebook now shows you how to use the library.\n",
    "\n",
    "Docs are at [joedockrill.github.io/jmd_imagescraper/](https://joedockrill.github.io/jmd_imagescraper/)\n",
    "\n",
    "Hugs & kisses, Joe Dockrill. "
   ]
  },
  {
   "cell_type": "markdown",
   "metadata": {
    "colab_type": "text",
    "id": "tTCCj9TS0WVY"
   },
   "source": [
    "## Install\n",
    "\n"
   ]
  },
  {
   "cell_type": "code",
   "execution_count": 1,
   "metadata": {
    "colab": {},
    "colab_type": "code",
    "id": "EYwHbopFG63A"
   },
   "outputs": [],
   "source": [
    "!pip install -q jmd_imagescraper"
   ]
  },
  {
   "cell_type": "markdown",
   "metadata": {
    "colab_type": "text",
    "id": "IMbb_349LcgA"
   },
   "source": [
    "## Download images"
   ]
  },
  {
   "cell_type": "code",
   "execution_count": 3,
   "metadata": {
    "colab": {},
    "colab_type": "code",
    "id": "ZpLinvRTLjCk"
   },
   "outputs": [
    {
     "name": "stdout",
     "output_type": "stream",
     "text": [
      "Duckduckgo search: 5 ingredient salted caramel crumble bars\n",
      "Downloading results into /home/rusakov/examples/image-scraper/images/food\n",
      "█\r"
     ]
    },
    {
     "data": {
      "text/plain": [
       "[PosixPath('/home/rusakov/examples/image-scraper/images/food/001_67cccc83.jpg'),\n",
       " PosixPath('/home/rusakov/examples/image-scraper/images/food/002_06958758.jpg'),\n",
       " PosixPath('/home/rusakov/examples/image-scraper/images/food/003_6c110185.jpg')]"
      ]
     },
     "execution_count": 3,
     "metadata": {},
     "output_type": "execute_result"
    }
   ],
   "source": [
    "from pathlib import Path\n",
    "root = Path().cwd()/\"images\"\n",
    "\n",
    "from jmd_imagescraper.core import * # dont't worry, it's designed to work with import *\n",
    "\n",
    "duckduckgo_search(root, \"food\", \"5 ingredient salted caramel crumble bars\", max_results=3)\n",
    "\n",
    "# duckduckgo_search(root, \"Cats\", \"cute kittens\", max_results=10)\n",
    "# duckduckgo_search(root, \"Dogs\", \"cute puppies\", max_results=10)\n",
    "# duckduckgo_search(root, \"Birds\", \"cute baby ducks and chickens\", max_results=10)\n",
    "\n",
    "# file paths are returned so if you want to snag a list of downloaded files as you go, do this:\n",
    "\n",
    "# images = []\n",
    "# images.extend(duckduckgo_search(root, \"Cats\", \"cute kittens\", max_results=10))\n",
    "# images.extend(duckduckgo_search(root, \"Dogs\", \"cute puppies\", max_results=10))\n",
    "# images.extend(duckduckgo_search(root, \"Birds\", \"cute baby ducks and chickens\", max_results=10))\n",
    "# images"
   ]
  },
  {
   "cell_type": "markdown",
   "metadata": {
    "colab_type": "text",
    "id": "MMYX3LJ4MR4t"
   },
   "source": [
    "## Changing params across multiple searches"
   ]
  },
  {
   "cell_type": "code",
   "execution_count": 4,
   "metadata": {
    "colab": {},
    "colab_type": "code",
    "id": "8vw7K4ULGz-8"
   },
   "outputs": [
    {
     "name": "stdout",
     "output_type": "stream",
     "text": [
      "Duckduckgo search: buttermilk pie in cornmeal pastry\n",
      "Downloading results into /home/rusakov/examples/image-scraper/images/Nice\n",
      "█\r"
     ]
    },
    {
     "data": {
      "text/plain": [
       "[PosixPath('/home/rusakov/examples/image-scraper/images/Nice/001_fafd1312.jpg'),\n",
       " PosixPath('/home/rusakov/examples/image-scraper/images/Nice/002_71b45512.jpg'),\n",
       " PosixPath('/home/rusakov/examples/image-scraper/images/Nice/003_f2b20821.jpg')]"
      ]
     },
     "execution_count": 4,
     "metadata": {},
     "output_type": "execute_result"
    }
   ],
   "source": [
    "# If you're going to override default params across multiple searches you can use a \n",
    "# dictionary like this (so you can change search params for the entire dataset once).\n",
    "\n",
    "params = {\n",
    "    \"max_results\": 3,             # this can go up to 477 at the time of writing\n",
    "    \"img_size\":    ImgSize.Medium, \n",
    "    \"img_type\":    ImgType.Photo,\n",
    "    \"img_layout\":  ImgLayout.Square,\n",
    "    \"img_color\":   ImgColor.Purple\n",
    "}\n",
    "\n",
    "duckduckgo_search(root, \"Nice\", \"buttermilk pie with gingersnap crumb crust\t\", **params)\n",
    "# duckduckgo_search(root, \"Scary\", \"scary clowns\", **params)"
   ]
  },
  {
   "cell_type": "markdown",
   "metadata": {
    "colab_type": "text",
    "id": "wlqGB5jtNWgs"
   },
   "source": [
    "## Deleting all images"
   ]
  },
  {
   "cell_type": "code",
   "execution_count": 5,
   "metadata": {
    "colab": {},
    "colab_type": "code",
    "id": "3jSRRz9jNVi0"
   },
   "outputs": [],
   "source": [
    "rmtree(root)"
   ]
  },
  {
   "cell_type": "markdown",
   "metadata": {
    "colab_type": "text",
    "id": "W2IKoyz-NvFq"
   },
   "source": [
    "## Displaying the image cleaner\n",
    "\n",
    "Use this to get rid of unsuitable images without leaving your notebook"
   ]
  },
  {
   "cell_type": "code",
   "execution_count": null,
   "metadata": {
    "cellView": "code",
    "colab": {},
    "colab_type": "code",
    "id": "ZWwjDsJDOGrO"
   },
   "outputs": [],
   "source": [
    "from jmd_imagescraper.imagecleaner import *\n",
    "\n",
    "display_image_cleaner(root)"
   ]
  },
  {
   "cell_type": "markdown",
   "metadata": {
    "colab_type": "text",
    "id": "H6KTdjEY0Fix"
   },
   "source": [
    "## Create a zip to download or transfer to google drive"
   ]
  },
  {
   "cell_type": "code",
   "execution_count": 11,
   "metadata": {
    "colab": {},
    "colab_type": "code",
    "id": "O8CT2yVzfZXb"
   },
   "outputs": [],
   "source": [
    "# create zip\n",
    "\n",
    "ZIP_NAME = \"images.zip\" # maybe change this?\n",
    "\n",
    "!rm -f {ZIP_NAME}\n",
    "!zip -q -r {ZIP_NAME} {root}"
   ]
  },
  {
   "cell_type": "code",
   "execution_count": null,
   "metadata": {
    "colab": {},
    "colab_type": "code",
    "id": "rmnndlPN1yTY"
   },
   "outputs": [],
   "source": [
    "# download to your local system\n",
    "\n",
    "from google.colab import files\n",
    "files.download(ZIP_NAME)"
   ]
  },
  {
   "cell_type": "code",
   "execution_count": null,
   "metadata": {
    "colab": {},
    "colab_type": "code",
    "id": "-BfkU4_u2kdp"
   },
   "outputs": [],
   "source": [
    "# copy to google drive \n",
    "\n",
    "from google.colab import drive\n",
    "import shutil\n",
    "\n",
    "DESTINATION_FOLDER = \"Datasets\" # where would you like this in Google Drive?\n",
    "\n",
    "drive.mount(\"/content/drive\") \n",
    "folder = Path(\"/content/drive/My Drive\")/DESTINATION_FOLDER\n",
    "folder.mkdir(parents=True, exist_ok=True)\n",
    "\n",
    "shutil.copyfile(ZIP_NAME, str(folder/ZIP_NAME))"
   ]
  },
  {
   "cell_type": "markdown",
   "metadata": {
    "colab_type": "text",
    "id": "pvM0imifGwOY"
   },
   "source": [
    "## Create a CSV file of URLs\n",
    "\n",
    "If you'd rather distribute a file with the image URLs and labels and have people download the images themselves you can do so here."
   ]
  },
  {
   "cell_type": "code",
   "execution_count": 15,
   "metadata": {
    "colab": {},
    "colab_type": "code",
    "id": "Q_VQvB9KG0v-"
   },
   "outputs": [],
   "source": [
    "CSV_NAME = \"images.csv\" # maybe change this?\n",
    "\n",
    "!rm -f {CSV_NAME}\n",
    "\n",
    "csv = Path.cwd()/CSV_NAME\n",
    "save_urls_to_csv(csv, \"Nice\", \"nice clowns\", max_results=5)\n",
    "save_urls_to_csv(csv, \"Scary\", \"scary clowns\", max_results=5)"
   ]
  }
 ],
 "metadata": {
  "colab": {
   "authorship_tag": "ABX9TyOBVsrtkJj/i7/ZjXJI1WsU",
   "collapsed_sections": [],
   "include_colab_link": true,
   "mount_file_id": "17f9l2cUPK2Yis_4A_YzzeEOqOPafTy5t",
   "name": "ImageScraper",
   "provenance": []
  },
  "kernelspec": {
   "display_name": "Python 3",
   "language": "python",
   "name": "python3"
  },
  "language_info": {
   "codemirror_mode": {
    "name": "ipython",
    "version": 3
   },
   "file_extension": ".py",
   "mimetype": "text/x-python",
   "name": "python",
   "nbconvert_exporter": "python",
   "pygments_lexer": "ipython3",
   "version": "3.8.5"
  }
 },
 "nbformat": 4,
 "nbformat_minor": 4
}
