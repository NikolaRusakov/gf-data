{
 "cells": [
  {
   "cell_type": "code",
   "execution_count": 1,
   "metadata": {},
   "outputs": [
    {
     "ename": "ModuleNotFoundError",
     "evalue": "No module named 'npzviewer'",
     "output_type": "error",
     "traceback": [
      "\u001b[0;31m---------------------------------------------------------------------------\u001b[0m",
      "\u001b[0;31mModuleNotFoundError\u001b[0m                       Traceback (most recent call last)",
      "\u001b[0;32m<ipython-input-1-1b7c630efc0c>\u001b[0m in \u001b[0;36m<module>\u001b[0;34m\u001b[0m\n\u001b[1;32m      3\u001b[0m \u001b[0;34m\u001b[0m\u001b[0m\n\u001b[1;32m      4\u001b[0m \u001b[0;32mimport\u001b[0m \u001b[0mnumpy\u001b[0m \u001b[0;32mas\u001b[0m \u001b[0mnp\u001b[0m\u001b[0;34m\u001b[0m\u001b[0;34m\u001b[0m\u001b[0m\n\u001b[0;32m----> 5\u001b[0;31m \u001b[0;32mimport\u001b[0m \u001b[0mnpzviewer\u001b[0m \u001b[0;32mas\u001b[0m \u001b[0mnpzv\u001b[0m\u001b[0;34m\u001b[0m\u001b[0;34m\u001b[0m\u001b[0m\n\u001b[0m\u001b[1;32m      6\u001b[0m \u001b[0;34m\u001b[0m\u001b[0m\n\u001b[1;32m      7\u001b[0m \u001b[0;32mwith\u001b[0m \u001b[0mnp\u001b[0m\u001b[0;34m.\u001b[0m\u001b[0mload\u001b[0m\u001b[0;34m(\u001b[0m\u001b[0;34m'simplified-recipes-1M.npz'\u001b[0m\u001b[0;34m,\u001b[0m\u001b[0mallow_pickle\u001b[0m\u001b[0;34m=\u001b[0m\u001b[0;32mTrue\u001b[0m \u001b[0;34m)\u001b[0m \u001b[0;32mas\u001b[0m \u001b[0mdata\u001b[0m\u001b[0;34m:\u001b[0m\u001b[0;34m\u001b[0m\u001b[0;34m\u001b[0m\u001b[0m\n",
      "\u001b[0;31mModuleNotFoundError\u001b[0m: No module named 'npzviewer'"
     ]
    }
   ],
   "source": [
    "%config IPCompleter.greedy=True\n",
    "\n",
    "\n",
    "import numpy as np\n",
    "import npzviewer as npzv\n",
    "\n",
    "with np.load('simplified-recipes-1M.npz',allow_pickle=True ) as data:\n",
    "    recipes = data['recipes']\n",
    "    ingredients = data['ingredients']"
   ]
  },
  {
   "cell_type": "code",
   "execution_count": 5,
   "metadata": {},
   "outputs": [
    {
     "data": {
      "text/html": "<div>\n<style scoped>\n    .dataframe tbody tr th:only-of-type {\n        vertical-align: middle;\n    }\n\n    .dataframe tbody tr th {\n        vertical-align: top;\n    }\n\n    .dataframe thead th {\n        text-align: right;\n    }\n</style>\n<table border=\"1\" class=\"dataframe\">\n  <thead>\n    <tr style=\"text-align: right;\">\n      <th></th>\n      <th>name</th>\n      <th>id</th>\n      <th>minutes</th>\n      <th>contributorId</th>\n      <th>submitted</th>\n      <th>tags</th>\n      <th>nutrition</th>\n      <th>numberOfSteps</th>\n      <th>steps</th>\n      <th>description</th>\n      <th>ingredients</th>\n      <th>numberOfIngredients</th>\n    </tr>\n  </thead>\n  <tbody>\n    <tr>\n      <th>136065</th>\n      <td>mini buffalo chicken cheesesteaks</td>\n      <td>537716</td>\n      <td>40</td>\n      <td>2001975627</td>\n      <td>2018-12-04</td>\n      <td>['60-minutes-or-less', 'time-to-make', 'course...</td>\n      <td>[407.9, 34.0, 21.0, 49.0, 28.0, 64.0, 12.0]</td>\n      <td>12</td>\n      <td>['heat 1 tablespoon of olive oil in a skillet ...</td>\n      <td>these party-style chicken cheesesteaks are fla...</td>\n      <td>['olive oil', 'green bell pepper', 'yellow oni...</td>\n      <td>13</td>\n    </tr>\n    <tr>\n      <th>145532</th>\n      <td>nutcracker peppermint red velvet cake pops</td>\n      <td>537671</td>\n      <td>135</td>\n      <td>2002198506</td>\n      <td>2018-11-28</td>\n      <td>['time-to-make', 'course', 'preparation', 'occ...</td>\n      <td>[207.9, 12.0, 93.0, 10.0, 6.0, 8.0, 10.0]</td>\n      <td>54</td>\n      <td>['before you begin , you will need to gather t...</td>\n      <td>rich red velvet cake combines with cool pepper...</td>\n      <td>[\"devil's food cake mix\", 'eggs', 'buttermilk'...</td>\n      <td>12</td>\n    </tr>\n    <tr>\n      <th>137661</th>\n      <td>moist gingerbread cake</td>\n      <td>537543</td>\n      <td>55</td>\n      <td>2001201872</td>\n      <td>2018-11-16</td>\n      <td>['60-minutes-or-less', 'time-to-make', 'course...</td>\n      <td>[1617.0, 104.0, 213.0, 8.0, 40.0, 203.0, 80.0]</td>\n      <td>8</td>\n      <td>['preheat the oven to 350&amp;deg', 'f grease a lo...</td>\n      <td>a slightly sticky loaf cake flavoured with gin...</td>\n      <td>['unsalted butter', 'applesauce', 'egg', 'unsu...</td>\n      <td>10</td>\n    </tr>\n    <tr>\n      <th>1547</th>\n      <td>5 ingredient salted caramel crumble bars</td>\n      <td>537485</td>\n      <td>45</td>\n      <td>2000378667</td>\n      <td>2018-11-12</td>\n      <td>['60-minutes-or-less', 'time-to-make', 'course...</td>\n      <td>[52.8, 3.0, 0.0, 4.0, 1.0, 1.0, 2.0]</td>\n      <td>21</td>\n      <td>['1', 'heat oven to 350f spray 8-inch square p...</td>\n      <td>delicious</td>\n      <td>['pillsbury sugar cookie dough', 'caramel topp...</td>\n      <td>5</td>\n    </tr>\n    <tr>\n      <th>13104</th>\n      <td>bailey s chocotini</td>\n      <td>537459</td>\n      <td>10</td>\n      <td>400708</td>\n      <td>2018-11-10</td>\n      <td>['15-minutes-or-less', 'time-to-make', 'course...</td>\n      <td>[220.7, 15.0, 49.0, 2.0, 3.0, 30.0, 4.0]</td>\n      <td>5</td>\n      <td>['to layer: add chocolate liqueur to glass', '...</td>\n      <td>a recipe that recipe complements the cocoa in ...</td>\n      <td>['baileys irish cream', 'chocolate liqueur', '...</td>\n      <td>3</td>\n    </tr>\n    <tr>\n      <th>...</th>\n      <td>...</td>\n      <td>...</td>\n      <td>...</td>\n      <td>...</td>\n      <td>...</td>\n      <td>...</td>\n      <td>...</td>\n      <td>...</td>\n      <td>...</td>\n      <td>...</td>\n      <td>...</td>\n      <td>...</td>\n    </tr>\n    <tr>\n      <th>58370</th>\n      <td>corn  onion and corn rolls</td>\n      <td>583</td>\n      <td>50</td>\n      <td>1543</td>\n      <td>1999-08-06</td>\n      <td>['60-minutes-or-less', 'time-to-make', 'course...</td>\n      <td>[42.7, 1.0, 2.0, 7.0, 2.0, 1.0, 2.0]</td>\n      <td>6</td>\n      <td>['mix 1 can reduced cream , 1 pkt onion soup m...</td>\n      <td>these are tasty and go down well with visitors...</td>\n      <td>['reduced cream', 'onion soup mix', 'lemon jui...</td>\n      <td>6</td>\n    </tr>\n    <tr>\n      <th>32272</th>\n      <td>buttermilk pie in cornmeal pastry</td>\n      <td>108</td>\n      <td>100</td>\n      <td>1535</td>\n      <td>1999-08-06</td>\n      <td>['weeknight', 'time-to-make', 'course', 'main-...</td>\n      <td>[459.0, 29.0, 163.0, 13.0, 21.0, 32.0, 20.0]</td>\n      <td>24</td>\n      <td>['for pastry: sift together flour and salt', '...</td>\n      <td>post by request. an old-fashioned, southern pie.</td>\n      <td>['flour', 'salt', 'cornmeal', 'shortening', 'c...</td>\n      <td>14</td>\n    </tr>\n    <tr>\n      <th>179696</th>\n      <td>salty milk biscuits</td>\n      <td>1079</td>\n      <td>0</td>\n      <td>1543</td>\n      <td>1999-08-06</td>\n      <td>['15-minutes-or-less', 'time-to-make', 'course...</td>\n      <td>[1025.8, 73.0, 1.0, 20.0, 36.0, 146.0, 43.0]</td>\n      <td>5</td>\n      <td>['sieve flour and salt and rub in the butter',...</td>\n      <td>i double the mixture when i make these.  they ...</td>\n      <td>['flour', 'milk', 'salt', 'butter', 'eggs']</td>\n      <td>5</td>\n    </tr>\n    <tr>\n      <th>32273</th>\n      <td>buttermilk pie with gingersnap crumb crust</td>\n      <td>45</td>\n      <td>80</td>\n      <td>1580</td>\n      <td>1999-08-06</td>\n      <td>['weeknight', 'time-to-make', 'course', 'main-...</td>\n      <td>[228.0, 10.0, 98.0, 11.0, 8.0, 8.0, 12.0]</td>\n      <td>10</td>\n      <td>['preheat oven to 350f', 'make pie crust , usi...</td>\n      <td>yum</td>\n      <td>['sugar', 'margarine', 'egg', 'egg whites', 'f...</td>\n      <td>9</td>\n    </tr>\n    <tr>\n      <th>95855</th>\n      <td>grape nuts pie</td>\n      <td>563</td>\n      <td>75</td>\n      <td>1533</td>\n      <td>1999-08-06</td>\n      <td>['weeknight', 'time-to-make', 'course', 'main-...</td>\n      <td>[2257.0, 76.0, 982.0, 61.0, 52.0, 133.0, 150.0]</td>\n      <td>6</td>\n      <td>['combine grapenuts and warm water', 'let stan...</td>\n      <td>NaN</td>\n      <td>['grape-nuts cereal', 'water', 'eggs', 'sugar'...</td>\n      <td>8</td>\n    </tr>\n  </tbody>\n</table>\n<p>231637 rows × 12 columns</p>\n</div>",
      "text/plain": "                                              name      id  minutes  \\\n136065           mini buffalo chicken cheesesteaks  537716       40   \n145532  nutcracker peppermint red velvet cake pops  537671      135   \n137661                      moist gingerbread cake  537543       55   \n1547      5 ingredient salted caramel crumble bars  537485       45   \n13104                           bailey s chocotini  537459       10   \n...                                            ...     ...      ...   \n58370                   corn  onion and corn rolls     583       50   \n32272            buttermilk pie in cornmeal pastry     108      100   \n179696                         salty milk biscuits    1079        0   \n32273   buttermilk pie with gingersnap crumb crust      45       80   \n95855                               grape nuts pie     563       75   \n\n        contributorId  submitted  \\\n136065     2001975627 2018-12-04   \n145532     2002198506 2018-11-28   \n137661     2001201872 2018-11-16   \n1547       2000378667 2018-11-12   \n13104          400708 2018-11-10   \n...               ...        ...   \n58370            1543 1999-08-06   \n32272            1535 1999-08-06   \n179696           1543 1999-08-06   \n32273            1580 1999-08-06   \n95855            1533 1999-08-06   \n\n                                                     tags  \\\n136065  ['60-minutes-or-less', 'time-to-make', 'course...   \n145532  ['time-to-make', 'course', 'preparation', 'occ...   \n137661  ['60-minutes-or-less', 'time-to-make', 'course...   \n1547    ['60-minutes-or-less', 'time-to-make', 'course...   \n13104   ['15-minutes-or-less', 'time-to-make', 'course...   \n...                                                   ...   \n58370   ['60-minutes-or-less', 'time-to-make', 'course...   \n32272   ['weeknight', 'time-to-make', 'course', 'main-...   \n179696  ['15-minutes-or-less', 'time-to-make', 'course...   \n32273   ['weeknight', 'time-to-make', 'course', 'main-...   \n95855   ['weeknight', 'time-to-make', 'course', 'main-...   \n\n                                              nutrition  numberOfSteps  \\\n136065      [407.9, 34.0, 21.0, 49.0, 28.0, 64.0, 12.0]             12   \n145532        [207.9, 12.0, 93.0, 10.0, 6.0, 8.0, 10.0]             54   \n137661   [1617.0, 104.0, 213.0, 8.0, 40.0, 203.0, 80.0]              8   \n1547               [52.8, 3.0, 0.0, 4.0, 1.0, 1.0, 2.0]             21   \n13104          [220.7, 15.0, 49.0, 2.0, 3.0, 30.0, 4.0]              5   \n...                                                 ...            ...   \n58370              [42.7, 1.0, 2.0, 7.0, 2.0, 1.0, 2.0]              6   \n32272      [459.0, 29.0, 163.0, 13.0, 21.0, 32.0, 20.0]             24   \n179696     [1025.8, 73.0, 1.0, 20.0, 36.0, 146.0, 43.0]              5   \n32273         [228.0, 10.0, 98.0, 11.0, 8.0, 8.0, 12.0]             10   \n95855   [2257.0, 76.0, 982.0, 61.0, 52.0, 133.0, 150.0]              6   \n\n                                                    steps  \\\n136065  ['heat 1 tablespoon of olive oil in a skillet ...   \n145532  ['before you begin , you will need to gather t...   \n137661  ['preheat the oven to 350&deg', 'f grease a lo...   \n1547    ['1', 'heat oven to 350f spray 8-inch square p...   \n13104   ['to layer: add chocolate liqueur to glass', '...   \n...                                                   ...   \n58370   ['mix 1 can reduced cream , 1 pkt onion soup m...   \n32272   ['for pastry: sift together flour and salt', '...   \n179696  ['sieve flour and salt and rub in the butter',...   \n32273   ['preheat oven to 350f', 'make pie crust , usi...   \n95855   ['combine grapenuts and warm water', 'let stan...   \n\n                                              description  \\\n136065  these party-style chicken cheesesteaks are fla...   \n145532  rich red velvet cake combines with cool pepper...   \n137661  a slightly sticky loaf cake flavoured with gin...   \n1547                                            delicious   \n13104   a recipe that recipe complements the cocoa in ...   \n...                                                   ...   \n58370   these are tasty and go down well with visitors...   \n32272    post by request. an old-fashioned, southern pie.   \n179696  i double the mixture when i make these.  they ...   \n32273                                                 yum   \n95855                                                 NaN   \n\n                                              ingredients  numberOfIngredients  \n136065  ['olive oil', 'green bell pepper', 'yellow oni...                   13  \n145532  [\"devil's food cake mix\", 'eggs', 'buttermilk'...                   12  \n137661  ['unsalted butter', 'applesauce', 'egg', 'unsu...                   10  \n1547    ['pillsbury sugar cookie dough', 'caramel topp...                    5  \n13104   ['baileys irish cream', 'chocolate liqueur', '...                    3  \n...                                                   ...                  ...  \n58370   ['reduced cream', 'onion soup mix', 'lemon jui...                    6  \n32272   ['flour', 'salt', 'cornmeal', 'shortening', 'c...                   14  \n179696        ['flour', 'milk', 'salt', 'butter', 'eggs']                    5  \n32273   ['sugar', 'margarine', 'egg', 'egg whites', 'f...                    9  \n95855   ['grape-nuts cereal', 'water', 'eggs', 'sugar'...                    8  \n\n[231637 rows x 12 columns]"
     },
     "execution_count": 5,
     "metadata": {},
     "output_type": "execute_result"
    }
   ],
   "source": [
    "import pandas as pd \n",
    "\n",
    "df = pd.read_csv(\"RAW_recipes.csv\")\n",
    "df['submitted'] = pd.to_datetime(df['submitted'])\n",
    "df.sort_values(by='submitted', ascending=False)\n",
    "\n",
    "# df.head()\n",
    "\n",
    "# data.head().at[2,'steps']\n"
   ]
  },
  {
   "cell_type": "code",
   "execution_count": 6,
   "metadata": {},
   "outputs": [],
   "source": [
    "import pandas as pd\n",
    "import json \n",
    "\n",
    "df = pd.read_csv (r'RAW_recipes.csv')\n",
    "df.to_json (r'RAW_recipes-formatted.json')\n",
    "\n",
    "# run in shell\n",
    "# cat RAW_recipes-formatted.json | jq > RAW_recipes-formatted.json"
   ]
  },
  {
   "cell_type": "code",
   "execution_count": 7,
   "metadata": {},
   "outputs": [],
   "source": [
    "import pandas as pd\n",
    "import ast\n",
    "\n",
    "df = pd.read_json(r'RAW_recipes-formatted.json')\n",
    "df_tags = df[['steps', 'ingredients', 'tags',\n",
    "              'nutrition']].applymap(lambda x: ast.literal_eval(x))\n",
    "\n",
    "df_new = df\n",
    "df_new[['steps', 'ingredients', 'tags', 'nutrition']] = df_tags\n",
    "df_new.to_json(r'RAW_recipes-arrays-formatted.json')\n",
    "\n",
    "# run in shell\n",
    "# cat RAW_recipes-arrays-formatted.json | jq > RAW_recipes-arrays-formatted.json\n"
   ]
  },
  {
   "cell_type": "code",
   "execution_count": 9,
   "metadata": {},
   "outputs": [],
   "source": [
    "import pandas as pd\n",
    "\n",
    "df = pd.read_json(r'RAW_recipes-arrays-formatted.json')\n",
    "\n",
    "\n",
    "def columnTuplesIntoObject(index):\n",
    "    return dict(list(map(lambda x: [x, df[x][index]], df.columns)))\n",
    "\n",
    "\n",
    "# print(columnTuplesIntoObject(1))\n",
    "\n",
    "entities = [columnTuplesIntoObject(index) for index in range(len(df['name']))]\n",
    "\n",
    "df_entities = pd.DataFrame(data={'data': entities})\n",
    "df_entities.to_json(r'RAW_recipes-entities.json')\n",
    "# run in shell\n",
    "# cat RAW_recipes-entities.json | jq > RAW_recipes-entities-formatted.json\n"
   ]
  }
 ],
 "metadata": {
  "kernelspec": {
   "display_name": "Python 3",
   "language": "python",
   "name": "python3"
  },
  "language_info": {
   "codemirror_mode": {
    "name": "ipython",
    "version": 3
   },
   "file_extension": ".py",
   "mimetype": "text/x-python",
   "name": "python",
   "nbconvert_exporter": "python",
   "pygments_lexer": "ipython3",
   "version": "3.8.5"
  }
 },
 "nbformat": 4,
 "nbformat_minor": 4
}